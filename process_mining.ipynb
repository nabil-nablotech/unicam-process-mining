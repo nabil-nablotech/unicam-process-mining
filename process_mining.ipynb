{
  "nbformat": 4,
  "nbformat_minor": 0,
  "metadata": {
    "colab": {
      "provenance": [],
      "gpuType": "T4",
      "authorship_tag": "ABX9TyOMBMAbtudVoSKZUvOy8Nai",
      "include_colab_link": true
    },
    "kernelspec": {
      "name": "python3",
      "display_name": "Python 3"
    },
    "language_info": {
      "name": "python"
    },
    "accelerator": "GPU"
  },
  "cells": [
    {
      "cell_type": "markdown",
      "metadata": {
        "id": "view-in-github",
        "colab_type": "text"
      },
      "source": [
        "<a href=\"https://colab.research.google.com/github/nabil-nablotech/unicam-process-mining/blob/main/process_mining.ipynb\" target=\"_parent\"><img src=\"https://colab.research.google.com/assets/colab-badge.svg\" alt=\"Open In Colab\"/></a>"
      ]
    },
    {
      "cell_type": "markdown",
      "source": [
        "# **1) Configure Google Collab.**\n",
        "\n",
        "\n"
      ],
      "metadata": {
        "id": "Fkn13CAhgtsA"
      }
    },
    {
      "cell_type": "markdown",
      "source": [
        "In Google Collab, click on Edit > Notebook Settings > Under Hardware Accelator, choose GPU."
      ],
      "metadata": {
        "id": "i02PIrNHtBSb"
      }
    },
    {
      "cell_type": "markdown",
      "source": [
        "# **2) Upload the dataset to the collab workspace.**"
      ],
      "metadata": {
        "id": "3ZT0P6dUsyTf"
      }
    },
    {
      "cell_type": "markdown",
      "source": [
        "# **3) Install PM4PY using pip.**"
      ],
      "metadata": {
        "id": "akI1mgONs03w"
      }
    },
    {
      "cell_type": "code",
      "source": [
        "!pip install pm4py\n",
        "import pm4py"
      ],
      "metadata": {
        "colab": {
          "base_uri": "https://localhost:8080/"
        },
        "collapsed": true,
        "id": "fGNoSaw2ij1A",
        "outputId": "3710967f-dd39-4f59-f53f-9719c8b22138"
      },
      "execution_count": 2,
      "outputs": [
        {
          "output_type": "stream",
          "name": "stdout",
          "text": [
            "Requirement already satisfied: pm4py in /usr/local/lib/python3.10/dist-packages (2.7.11.9)\n",
            "Requirement already satisfied: numpy<2 in /usr/local/lib/python3.10/dist-packages (from pm4py) (1.25.2)\n",
            "Requirement already satisfied: pandas in /usr/local/lib/python3.10/dist-packages (from pm4py) (2.0.3)\n",
            "Requirement already satisfied: deprecation in /usr/local/lib/python3.10/dist-packages (from pm4py) (2.1.0)\n",
            "Requirement already satisfied: networkx in /usr/local/lib/python3.10/dist-packages (from pm4py) (3.3)\n",
            "Requirement already satisfied: graphviz in /usr/local/lib/python3.10/dist-packages (from pm4py) (0.20.3)\n",
            "Requirement already satisfied: wheel in /usr/local/lib/python3.10/dist-packages (from pm4py) (0.43.0)\n",
            "Requirement already satisfied: setuptools in /usr/local/lib/python3.10/dist-packages (from pm4py) (67.7.2)\n",
            "Requirement already satisfied: intervaltree in /usr/local/lib/python3.10/dist-packages (from pm4py) (3.1.0)\n",
            "Requirement already satisfied: lxml in /usr/local/lib/python3.10/dist-packages (from pm4py) (4.9.4)\n",
            "Requirement already satisfied: matplotlib in /usr/local/lib/python3.10/dist-packages (from pm4py) (3.7.1)\n",
            "Requirement already satisfied: pydotplus in /usr/local/lib/python3.10/dist-packages (from pm4py) (2.0.2)\n",
            "Requirement already satisfied: pytz in /usr/local/lib/python3.10/dist-packages (from pm4py) (2023.4)\n",
            "Requirement already satisfied: scipy in /usr/local/lib/python3.10/dist-packages (from pm4py) (1.11.4)\n",
            "Requirement already satisfied: tqdm in /usr/local/lib/python3.10/dist-packages (from pm4py) (4.66.4)\n",
            "Requirement already satisfied: cvxopt in /usr/local/lib/python3.10/dist-packages (from pm4py) (1.3.2)\n",
            "Requirement already satisfied: packaging in /usr/local/lib/python3.10/dist-packages (from deprecation->pm4py) (24.0)\n",
            "Requirement already satisfied: sortedcontainers<3.0,>=2.0 in /usr/local/lib/python3.10/dist-packages (from intervaltree->pm4py) (2.4.0)\n",
            "Requirement already satisfied: contourpy>=1.0.1 in /usr/local/lib/python3.10/dist-packages (from matplotlib->pm4py) (1.2.1)\n",
            "Requirement already satisfied: cycler>=0.10 in /usr/local/lib/python3.10/dist-packages (from matplotlib->pm4py) (0.12.1)\n",
            "Requirement already satisfied: fonttools>=4.22.0 in /usr/local/lib/python3.10/dist-packages (from matplotlib->pm4py) (4.51.0)\n",
            "Requirement already satisfied: kiwisolver>=1.0.1 in /usr/local/lib/python3.10/dist-packages (from matplotlib->pm4py) (1.4.5)\n",
            "Requirement already satisfied: pillow>=6.2.0 in /usr/local/lib/python3.10/dist-packages (from matplotlib->pm4py) (9.4.0)\n",
            "Requirement already satisfied: pyparsing>=2.3.1 in /usr/local/lib/python3.10/dist-packages (from matplotlib->pm4py) (3.1.2)\n",
            "Requirement already satisfied: python-dateutil>=2.7 in /usr/local/lib/python3.10/dist-packages (from matplotlib->pm4py) (2.8.2)\n",
            "Requirement already satisfied: tzdata>=2022.1 in /usr/local/lib/python3.10/dist-packages (from pandas->pm4py) (2024.1)\n",
            "Requirement already satisfied: six>=1.5 in /usr/local/lib/python3.10/dist-packages (from python-dateutil>=2.7->matplotlib->pm4py) (1.16.0)\n"
          ]
        }
      ]
    },
    {
      "cell_type": "markdown",
      "source": [
        "# **4) Install Graphviz for visualization.**"
      ],
      "metadata": {
        "id": "CIuHIstqqiBL"
      }
    },
    {
      "cell_type": "code",
      "source": [
        "!apt-get -qq install -y graphviz"
      ],
      "metadata": {
        "id": "d_vlPJfZqr5u"
      },
      "execution_count": 3,
      "outputs": []
    },
    {
      "cell_type": "markdown",
      "source": [
        "# **5) Import the dataset.**"
      ],
      "metadata": {
        "id": "z5UqIcWHtv-p"
      }
    },
    {
      "cell_type": "code",
      "source": [
        "def import_xes(file_path):\n",
        "    event_log = pm4py.read_xes(file_path)\n",
        "    start_activities = pm4py.get_start_activities(event_log)\n",
        "    end_activities = pm4py.get_end_activities(event_log)\n",
        "    print(\"Start activities: {}\\nEnd activities: {}\".format(start_activities, end_activities))\n",
        "\n",
        "if __name__ == \"__main__\":\n",
        "    import_xes(\"/content/BPI_Challenge_2019-dataset.xes\")"
      ],
      "metadata": {
        "id": "GNINuKNOt1KR"
      },
      "execution_count": null,
      "outputs": []
    }
  ]
}